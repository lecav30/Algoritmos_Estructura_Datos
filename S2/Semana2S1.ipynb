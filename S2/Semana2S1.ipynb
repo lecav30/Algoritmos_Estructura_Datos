{
  "nbformat": 4,
  "nbformat_minor": 0,
  "metadata": {
    "colab": {
      "name": "Semana2S1.ipynb",
      "provenance": [],
      "collapsed_sections": [],
      "authorship_tag": "ABX9TyMSAik+e87g00Zven4lqOr+",
      "include_colab_link": true
    },
    "kernelspec": {
      "name": "python3",
      "display_name": "Python 3"
    },
    "language_info": {
      "name": "python"
    }
  },
  "cells": [
    {
      "cell_type": "markdown",
      "metadata": {
        "id": "view-in-github",
        "colab_type": "text"
      },
      "source": [
        "<a href=\"https://colab.research.google.com/github/lecav30/Algoritmos_Estructura_Datos/blob/main/S2/Semana2S1.ipynb\" target=\"_parent\"><img src=\"https://colab.research.google.com/assets/colab-badge.svg\" alt=\"Open In Colab\"/></a>"
      ]
    },
    {
      "cell_type": "markdown",
      "metadata": {
        "id": "kbfXMbbsRZbm"
      },
      "source": [
        "#Temario \n",
        "1. Colab\n",
        "2. Compilación manual\n",
        "3. Templates\n"
      ]
    },
    {
      "cell_type": "code",
      "metadata": {
        "id": "YM9E80M4NATR",
        "colab": {
          "base_uri": "https://localhost:8080/"
        },
        "outputId": "5cf92395-541d-4a3d-8693-1c2cec144aa0"
      },
      "source": [
        "%%writefile prog1.cpp\n",
        "#include <iostream>\n",
        "using namespace std;\n",
        "\n",
        "int main() {\n",
        "    cout << \"UPC\";\n",
        "    return 0;\n",
        "}"
      ],
      "execution_count": null,
      "outputs": [
        {
          "output_type": "stream",
          "text": [
            "Overwriting prog1.cpp\n"
          ],
          "name": "stdout"
        }
      ]
    },
    {
      "cell_type": "code",
      "metadata": {
        "id": "TFncA51XOX77"
      },
      "source": [
        "#compilando desde colab, ! sirve para ejecutar programas en shell (cp, rm, mv)\n",
        "!g++ prog1.cpp"
      ],
      "execution_count": null,
      "outputs": []
    },
    {
      "cell_type": "code",
      "metadata": {
        "colab": {
          "base_uri": "https://localhost:8080/"
        },
        "id": "5Rql9T0YO9QA",
        "outputId": "6c296829-4c6b-407e-9c3a-477accdcf495"
      },
      "source": [
        "#ejecutar desde colab el programa objeto\n",
        "!./a.out"
      ],
      "execution_count": null,
      "outputs": [
        {
          "output_type": "stream",
          "text": [
            "UPC"
          ],
          "name": "stdout"
        }
      ]
    },
    {
      "cell_type": "code",
      "metadata": {
        "colab": {
          "base_uri": "https://localhost:8080/"
        },
        "id": "6x5pLkS9Pa95",
        "outputId": "4fe699a3-8a9e-4967-a243-8904eae671ab"
      },
      "source": [
        "#compilar y ejecutar\n",
        "!g++ prog1.cpp -o prog1.exe && ./prog1.exe"
      ],
      "execution_count": null,
      "outputs": [
        {
          "output_type": "stream",
          "text": [
            "UPC"
          ],
          "name": "stdout"
        }
      ]
    },
    {
      "cell_type": "code",
      "metadata": {
        "colab": {
          "base_uri": "https://localhost:8080/"
        },
        "id": "Vesta8_HQCpB",
        "outputId": "14a3d2ab-1f04-46c7-8a11-e0088818895e"
      },
      "source": [
        "#seleccion de compilador, compilacion, renombre, ejecucion\n",
        "!g++ -std=c++11 prog1.cpp -o prog1.exe && ./prog1.exe"
      ],
      "execution_count": null,
      "outputs": [
        {
          "output_type": "stream",
          "text": [
            "UPC"
          ],
          "name": "stdout"
        }
      ]
    },
    {
      "cell_type": "code",
      "metadata": {
        "colab": {
          "base_uri": "https://localhost:8080/"
        },
        "id": "cVLluUMNQGnR",
        "outputId": "0e8cab1f-59cb-4461-9719-eb4c8b02610a"
      },
      "source": [
        "#-Wall -> Ignora los warnings\n",
        "# -w -> ignora\n",
        "!g++ -std=c++11 -Wall prog1.cpp -o prog1.exe && ./prog1.exe"
      ],
      "execution_count": null,
      "outputs": [
        {
          "output_type": "stream",
          "text": [
            "UPC"
          ],
          "name": "stdout"
        }
      ]
    },
    {
      "cell_type": "code",
      "metadata": {
        "id": "TLQhPiCYQzRY"
      },
      "source": [
        "#parametros del compilador\n",
        "!man -k g++"
      ],
      "execution_count": null,
      "outputs": []
    },
    {
      "cell_type": "markdown",
      "metadata": {
        "id": "hAoV2cGkSacq"
      },
      "source": [
        "#Templates"
      ]
    },
    {
      "cell_type": "code",
      "metadata": {
        "id": "Tx-nyljWQ8OH",
        "colab": {
          "base_uri": "https://localhost:8080/"
        },
        "outputId": "b8559df0-3c78-43ae-91b7-88e98710f511"
      },
      "source": [
        "%%writefile SinTemplates.cpp\n",
        "\n",
        "typedef unsigned long long ull; \n",
        "\n",
        "class BigNumber {\n",
        "    ull n1;\n",
        "public:\n",
        "    BigNumber(ull n1 = 0) : n1(n1) {\n",
        "        this->n1 = n1;\n",
        "    }\n",
        "};\n",
        "\n",
        "class BigNumberF {\n",
        "    float n1;\n",
        "public:\n",
        "    BigNumberF(float n1 = 0) :n1(n1) {\n",
        "        this->n1 = n1;\n",
        "    }\n",
        "};\n",
        "\n",
        "class BigNumberD {\n",
        "    double n1;\n",
        "    double n2;\n",
        "public:\n",
        "    BigNumberD(double n1 = 0, double n2 = 0) :n1(n1), n2(n2) {}\n",
        "};\n",
        "\n",
        "int main() {\n",
        "    BigNumber n1;\n",
        "    BigNumberF n2;\n",
        "    BigNumberD n3;\n",
        "    return 0;\n",
        "}\n"
      ],
      "execution_count": null,
      "outputs": [
        {
          "output_type": "stream",
          "text": [
            "Overwriting SinTemplates.cpp\n"
          ],
          "name": "stdout"
        }
      ]
    },
    {
      "cell_type": "code",
      "metadata": {
        "id": "hI-C74GVSh47"
      },
      "source": [
        "!g++ SinTemplates.cpp -o SinTemplates.exe && ./SinTemplates.exe"
      ],
      "execution_count": null,
      "outputs": []
    },
    {
      "cell_type": "code",
      "metadata": {
        "id": "naOWOOeYT5xz",
        "colab": {
          "base_uri": "https://localhost:8080/"
        },
        "outputId": "240c2f7b-1ae6-4832-c6f1-e798fdfde6ea"
      },
      "source": [
        "%%writefile ConTemplates.cpp\n",
        "\n",
        "typedef unsigned long long ull; \n",
        "template <class Tipo>\n",
        "\n",
        "class BigNumber {\n",
        "    Tipo n1;\n",
        "    Tipo n2;\n",
        "public:\n",
        "    BigNumber(Tipo n1=0,Tipo n2=0) : n1(n1), n2(n2) {}\n",
        "};\n",
        "\n",
        "int main() {\n",
        "    BigNumber<ull> n1;\n",
        "    BigNumber<float> n2;\n",
        "    BigNumber<double> n3;\n",
        "    return 0;\n",
        "}"
      ],
      "execution_count": null,
      "outputs": [
        {
          "output_type": "stream",
          "text": [
            "Overwriting ConTemplates.cpp\n"
          ],
          "name": "stdout"
        }
      ]
    },
    {
      "cell_type": "code",
      "metadata": {
        "id": "8QDP2ZFjXPuh"
      },
      "source": [
        "!g++ ConTemplates.cpp -o ConTemplates.exe && ./ConTemplates.exe"
      ],
      "execution_count": null,
      "outputs": []
    },
    {
      "cell_type": "markdown",
      "metadata": {
        "id": "GoDoM8KqbVzQ"
      },
      "source": [
        "#Estructura de datos Array con templates"
      ]
    },
    {
      "cell_type": "code",
      "metadata": {
        "id": "Ll_GWoI-XUsX",
        "colab": {
          "base_uri": "https://localhost:8080/"
        },
        "outputId": "2f75d480-b9fc-4217-b6d0-cb78c16a6710"
      },
      "source": [
        "%%writefile estructura.cpp\n",
        "\n",
        "#include <string>\n",
        "#include <iostream>\n",
        "//se carga solo no necesario del std\n",
        "using std::string;\n",
        "using std::cout;\n",
        "\n",
        "struct Virus{  \n",
        "    string name;\n",
        "    Virus() {\n",
        "        name=\"abc\";\n",
        "    }\n",
        "};\n",
        "\n",
        "class Person{\n",
        "    string name;\n",
        "};\n",
        "\n",
        "//estandar de programacion C++\n",
        "//si se usa struct entonces en vez de \"class\" ira \"typename\"\n",
        "\n",
        "template <class Tipo>\n",
        "class Array {\n",
        "    Tipo* arr;\n",
        "    unsigned short id;\n",
        "public:\n",
        "    Array() {\n",
        "        arr = new Tipo[100];\n",
        "        id = 0;\n",
        "    }\n",
        "    void insert(Tipo v) {\n",
        "        if(id < 100) {\n",
        "            arr[id] = v;\n",
        "            id++;\n",
        "        }\n",
        "    }\n",
        "    Tipo recByPos(unsigned short p) {\n",
        "        if (p >= 0 && p <= id)\n",
        "            return arr[p];\n",
        "        //else return NULL;\n",
        "    }\n",
        "};\n",
        "\n",
        "\n",
        "int main() {\n",
        "    //tipos de datos compuestos\n",
        "    Array<Person> arrPerson;\n",
        "    Array<Virus> arrVirus;\n",
        "    //tipos de datos primitivos\n",
        "    Array<int> enteros;\n",
        "    Array<char> caracteres;\n",
        "\n",
        "    //insertando valores\n",
        "\n",
        "    //size_t es un tipo de dato especializado para hacer recorridos\n",
        "    //se adapta a los recorridos, es una buena practica\n",
        "    //tipo de dato especializado\n",
        "    for (size_t i=0; i<20; i++){\n",
        "        arrVirus.insert(Virus());\n",
        "        enteros.insert(i);\n",
        "    }\n",
        "    //probar el registro de datos en el conteiner(Estructura de datos)\n",
        "    cout << arrVirus.recByPos(10).name << \"\\n\";\n",
        "    cout << enteros.recByPos(10) << \"\\n\";\n",
        "    //Buena practica: usar \\n, demora menos en ejecucion\n",
        "    return 0;\n",
        "}\n",
        "\n",
        "/*\n",
        "class CVirus {\n",
        "    Virus* arr;\n",
        "    unsigned short id;\n",
        "public:\n",
        "    CVirus() {\n",
        "        arr = new Virus[100];\n",
        "        id = 0;\n",
        "    }\n",
        "    void insert(Virus v) {\n",
        "        if(id < 100) {\n",
        "            arr[id] = v;\n",
        "            id++;\n",
        "        }\n",
        "    }\n",
        "};\n",
        "\n",
        "class CPerson {\n",
        "    Person* arr;\n",
        "    unsigned short id;\n",
        "public:\n",
        "    CPerson() {\n",
        "        arr = new Person[100];\n",
        "        id = 0;\n",
        "    }\n",
        "    void insert(Person v) {\n",
        "        if(id < 100) {\n",
        "            arr[id] = v;\n",
        "            id++;\n",
        "        }\n",
        "    }\n",
        "};\n",
        "*/\n",
        "\n"
      ],
      "execution_count": null,
      "outputs": [
        {
          "output_type": "stream",
          "text": [
            "Overwriting estructura.cpp\n"
          ],
          "name": "stdout"
        }
      ]
    },
    {
      "cell_type": "code",
      "metadata": {
        "colab": {
          "base_uri": "https://localhost:8080/"
        },
        "id": "HMgR6e3heJTH",
        "outputId": "a75c7c68-e9bb-4de5-9ecc-309f8ad324bb"
      },
      "source": [
        "!g++ estructura.cpp -o estructura.exe && ./estructura.exe"
      ],
      "execution_count": null,
      "outputs": [
        {
          "output_type": "stream",
          "text": [
            "abc\n",
            "10\n"
          ],
          "name": "stdout"
        }
      ]
    },
    {
      "cell_type": "code",
      "metadata": {
        "id": "8maxOuf8e9On"
      },
      "source": [
        ""
      ],
      "execution_count": null,
      "outputs": []
    }
  ]
}