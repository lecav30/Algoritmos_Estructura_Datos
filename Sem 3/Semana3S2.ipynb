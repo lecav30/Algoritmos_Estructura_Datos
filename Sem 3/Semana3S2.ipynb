{
  "nbformat": 4,
  "nbformat_minor": 0,
  "metadata": {
    "colab": {
      "name": "Semana3S2.ipynb",
      "provenance": [],
      "collapsed_sections": [],
      "authorship_tag": "ABX9TyOaKpIPZHNoHEqBEg+9pxBm",
      "include_colab_link": true
    },
    "kernelspec": {
      "name": "python3",
      "display_name": "Python 3"
    },
    "language_info": {
      "name": "python"
    }
  },
  "cells": [
    {
      "cell_type": "markdown",
      "metadata": {
        "id": "view-in-github",
        "colab_type": "text"
      },
      "source": [
        "<a href=\"https://colab.research.google.com/github/lecav30/Algoritmos_Estructura_Datos/blob/main/Sem%203/Semana3S2.ipynb\" target=\"_parent\"><img src=\"https://colab.research.google.com/assets/colab-badge.svg\" alt=\"Open In Colab\"/></a>"
      ]
    },
    {
      "cell_type": "code",
      "metadata": {
        "colab": {
          "base_uri": "https://localhost:8080/"
        },
        "id": "_zITuq6jjyaS",
        "outputId": "7873ffdf-d731-46ef-a527-4637c79fafbd"
      },
      "source": [
        "%%writefile arreglo.cpp\n",
        "//c++ -> lenguaje orientado a punteros\n",
        "#include <iostream>\n",
        "using namespace std;\n",
        "int main() {\n",
        "    int a[10];\n",
        "    cout << sizeof(a) << endl;\n",
        "    //direccion de memoria en hexadecimal\n",
        "    cout << a << endl;\n",
        "    for (size_t i = 0; i < 10; i++) \n",
        "        cout << *(a + i) << \"\\t\\t\" << &a[i] << endl;\n",
        "    //& -> direccion de memoria\n",
        "    return 0;\n",
        "}"
      ],
      "execution_count": null,
      "outputs": [
        {
          "output_type": "stream",
          "name": "stdout",
          "text": [
            "Overwriting arreglo.cpp\n"
          ]
        }
      ]
    },
    {
      "cell_type": "code",
      "metadata": {
        "colab": {
          "base_uri": "https://localhost:8080/"
        },
        "id": "1IguK-K3kSa3",
        "outputId": "b280175f-6564-4245-b79e-1b38b751c42d"
      },
      "source": [
        "!g++ -w arreglo.cpp && ./a.out"
      ],
      "execution_count": null,
      "outputs": [
        {
          "output_type": "stream",
          "name": "stdout",
          "text": [
            "40\n",
            "0x7ffd4e0807b0\n",
            "-412996800\t\t0x7ffd4e0807b0\n",
            "32726\t\t0x7ffd4e0807b4\n",
            "0\t\t0x7ffd4e0807b8\n",
            "0\t\t0x7ffd4e0807bc\n",
            "-1998943376\t\t0x7ffd4e0807c0\n",
            "21976\t\t0x7ffd4e0807c4\n",
            "-1998944000\t\t0x7ffd4e0807c8\n",
            "21976\t\t0x7ffd4e0807cc\n",
            "1309149376\t\t0x7ffd4e0807d0\n",
            "32765\t\t0x7ffd4e0807d4\n"
          ]
        }
      ]
    },
    {
      "cell_type": "code",
      "metadata": {
        "colab": {
          "base_uri": "https://localhost:8080/"
        },
        "id": "0T5ddG00lmrv",
        "outputId": "1db00509-8f50-474d-ad2c-a16d4e0431f8"
      },
      "source": [
        "%%writefile listas.cpp\n",
        "#include <iostream>\n",
        "using namespace std;\n",
        "\n",
        "//nodo\n",
        "struct Vagon {\n",
        "    string elem;\n",
        "    //para los nodos siempre se usan punteros\n",
        "    Vagon* sig;\n",
        "    //inicializamos el puntero como nullptr\n",
        "    Vagon(string elem, Vagon* sig = nullptr) : elem(elem), sig(sig) {}\n",
        "};\n",
        "\n",
        "class Tren {\n",
        "Vagon* inicio;\n",
        "long long cant;\n",
        "public:\n",
        "Tren() {\n",
        "    inicio = nullptr;\n",
        "    cant = 0;\n",
        "    }\n",
        "    void agregar(Vagon* v) {\n",
        "        // 0 elementos\n",
        "        if (inicio == nullptr)\n",
        "            inicio = v;\n",
        "        else {\n",
        "            Vagon* aux = inicio;\n",
        "            while (aux->sig != nullptr){\n",
        "                aux = aux->sig;\n",
        "            }\n",
        "            aux->sig = v;\n",
        "        }\n",
        "        cant++;\n",
        "    }\n",
        "    //Incompleto\n",
        "    //void insertarPos(int pos, Vagon* v) {\n",
        "    //    if (pos < 0 || pos > cant) return;\n",
        "    //    if (pos == 0) {\n",
        "    //        v->sig = inicio;\n",
        "    //        inicio = v;\n",
        "    //    }\n",
        "    //    else {\n",
        "    //        Vagon* aux = inicio;\n",
        "    //        int id = 0;\n",
        "    //        while (id != pos){\n",
        "    //            aux = aux->sig;\n",
        "    //            id++;\n",
        "    //        }\n",
        "    //        v->sig = aux->sig;\n",
        "    //        aux->sig = v;\n",
        "    //    }\n",
        "    //    cant++;\n",
        "    //}\n",
        "    void mostrar(){\n",
        "        Vagon* aux = inicio;\n",
        "            while(aux != nullptr){\n",
        "                cout<<aux->elem<<\" \";\n",
        "                aux = aux->sig;\n",
        "            }\n",
        "    }\n",
        "    //insertar en pos, insertar al inicio, eliminar, buscar, recuperar\n",
        "    //eliminarTodo, invertir, ordenar, eliminarPos\n",
        "};\n",
        "\n",
        "int main() {\n",
        "    //creando Nodos\n",
        "    //Vagon* v1 = new Vagon(\"Renzo\");\n",
        "    //Vagon* v2 = new Vagon(\"Walter\");\n",
        "    //Vagon* v3 = new Vagon(\"Luis\");\n",
        "    //Vagon* v4 = new Vagon(\"Sandra\");\n",
        "    //Vagon* v5 = new Vagon(\"Ana\");\n",
        "    //enlazar los nodos\n",
        "    //v1->sig =v2;\n",
        "    //v2->sig = v3;\n",
        "    //v3->sig = v4;\n",
        "    //v4->sig = v5;\n",
        "    //cout << v1->sig->sig->elem << endl;\n",
        "    //para enlazar un nuevo nodo\n",
        "    //esta bien el metodo, pero usa demasiadas variables\n",
        "    //nuevo->sig = v3;\n",
        "    //v2->sig = nuevo;\n",
        "    //este utiliza menos variables\n",
        "    //nuevo->sig = v2->sig;\n",
        "    //v2->sig = nuevo;\n",
        "    //si se hace en sentido inverso se pierde la dirección de memoria\n",
        "\n",
        "    Tren t;\n",
        "\n",
        "    t.agregar(new Vagon(\"Renzo\"));\n",
        "    t.agregar(new Vagon(\"Walter\"));\n",
        "    t.agregar(new Vagon(\"Luis\"));\n",
        "    t.agregar(new Vagon(\"Sandra\"));\n",
        "    t.agregar(new Vagon(\"Ana\"));\n",
        "    t.agregar(new Vagon(\"Sofia\"));\n",
        "    t.mostrar();\n",
        "    //t.insertarPos(2, new Vagon(\"Sebastian\"));\n",
        "    cout << \"\\n\";\n",
        "    t.mostrar();\n",
        "\n",
        "    return 0;\n",
        "}"
      ],
      "execution_count": null,
      "outputs": [
        {
          "output_type": "stream",
          "name": "stdout",
          "text": [
            "Overwriting listas.cpp\n"
          ]
        }
      ]
    },
    {
      "cell_type": "code",
      "metadata": {
        "colab": {
          "base_uri": "https://localhost:8080/"
        },
        "id": "F9KHkKCOq79l",
        "outputId": "b037cf99-8aa4-4dc0-c00f-e3ce9dcc829a"
      },
      "source": [
        "!g++ -w listas.cpp && ./a.out"
      ],
      "execution_count": null,
      "outputs": [
        {
          "output_type": "stream",
          "name": "stdout",
          "text": [
            "Renzo Walter Luis Sandra Ana Sofia \n",
            "Renzo Walter Luis Sebastian Sandra Ana Sofia "
          ]
        }
      ]
    },
    {
      "cell_type": "code",
      "metadata": {
        "id": "gP6nXfhXq_J2"
      },
      "source": [
        ""
      ],
      "execution_count": null,
      "outputs": []
    }
  ]
}