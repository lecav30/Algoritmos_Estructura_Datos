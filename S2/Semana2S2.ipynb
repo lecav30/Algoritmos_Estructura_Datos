{
  "nbformat": 4,
  "nbformat_minor": 0,
  "metadata": {
    "colab": {
      "name": "Semana2S2.ipynb",
      "provenance": [],
      "collapsed_sections": [],
      "authorship_tag": "ABX9TyMvq2Y417tIQNz7VlQqmbOR",
      "include_colab_link": true
    },
    "kernelspec": {
      "name": "python3",
      "display_name": "Python 3"
    },
    "language_info": {
      "name": "python"
    }
  },
  "cells": [
    {
      "cell_type": "markdown",
      "metadata": {
        "id": "view-in-github",
        "colab_type": "text"
      },
      "source": [
        "<a href=\"https://colab.research.google.com/github/lecav30/Algoritmos_Estructura_Datos/blob/main/S2/Semana2S2.ipynb\" target=\"_parent\"><img src=\"https://colab.research.google.com/assets/colab-badge.svg\" alt=\"Open In Colab\"/></a>"
      ]
    },
    {
      "cell_type": "markdown",
      "metadata": {
        "id": "agBtxeN3gxXn"
      },
      "source": [
        "#Temario\n",
        "1. Archivos\n",
        "2. Lambdas"
      ]
    },
    {
      "cell_type": "code",
      "metadata": {
        "colab": {
          "base_uri": "https://localhost:8080/"
        },
        "id": "IW2YUWdCguB8",
        "outputId": "dc91a7ce-e485-4ad2-9351-4112861841f2"
      },
      "source": [
        "%%writefile archivos.txt\n",
        "LG , negro , 1200 \n",
        "Samsung , azul , 1500 \n",
        "Nokia , rojo , 800 "
      ],
      "execution_count": null,
      "outputs": [
        {
          "output_type": "stream",
          "text": [
            "Overwriting archivos.txt\n"
          ],
          "name": "stdout"
        }
      ]
    },
    {
      "cell_type": "code",
      "metadata": {
        "id": "NPEmeTvqhlRi",
        "colab": {
          "base_uri": "https://localhost:8080/"
        },
        "outputId": "383e51bf-d6d2-4643-88f8-268f28df5c45"
      },
      "source": [
        "%%writefile archivos.cpp\n",
        "//manejo en buffer \n",
        "#include <iostream>\n",
        "//manejo de archivos en disco \n",
        "#include <fstream>\n",
        "//manejo de archivos en memoria\n",
        "#include <sstream>\n",
        "using namespace std;\n",
        "\n",
        "void ejemplo1() {\n",
        "    short nro;\n",
        "    //cout << \"Nro\"; //escritura de archivos en buffer\n",
        "    //cin >> nro; //lectura de archivos en buffer\n",
        "\n",
        "    string cadena;\n",
        "\n",
        "    //escritura en archivos\n",
        "    fstream archE(\"texto.txt\", ios::out); //modo de operacion es escritura\n",
        "    archE << \"UPC\";\n",
        "    archE.close();\n",
        "\n",
        "    //lectura en archivos\n",
        "    fstream archL(\"texto.txt\", ios::in); //modo de operacion es lectura\n",
        "    archL >> cadena;\n",
        "    cout << cadena;\n",
        "    archL.close();\n",
        "}\n",
        "\n",
        "void ejemplo2() {\n",
        "    string cadena;\n",
        "\n",
        "    //fstream en modo de operacion lectura\n",
        "    ifstream archivo(\"archivos.txt\");\n",
        "    \n",
        "    // solo lee hasta el espacio\n",
        "    //archivo >> cadena;\n",
        "    /*\n",
        "    RECORDAR: El compilador lee de derecha a izquierda!\n",
        "    Por lo tanto, el \"archivo >> cadena\" es como un:\n",
        "    -> en la cadena guardo lo del archivo \n",
        "    Si fuera un cin >> cadena, seria:\n",
        "    -> en la cadena guardo \n",
        "    */\n",
        "\n",
        "    string marca, color;\n",
        "    string aux;\n",
        "    float precio;\n",
        "\n",
        "    while(getline(archivo, cadena)) {\n",
        "        stringstream archMem(cadena); //convierte un string en archivo en memoria\n",
        "        getline(archMem, marca, ','); //comillas simples, es un char\n",
        "        getline(archMem, color, ',');\n",
        "        getline(archMem, aux);\n",
        "        precio = stof(aux);\n",
        "        cout << precio << \" \" << color << \" \" << marca << endl;\n",
        "    }\n",
        "\n",
        "    //forma muy pesada\n",
        "}\n",
        "\n",
        "void ejemplo3() {\n",
        "    string cadena;\n",
        "\n",
        "    ifstream archivo(\"archivos.txt\");\n",
        "\n",
        "    string marca, color;\n",
        "    string aux;\n",
        "    string precio;\n",
        "\n",
        "    //para que funcione esto, debe estar con separaciones (espacios)\n",
        "\n",
        "    //el aux sirve para almacenar la coma\n",
        "    while(archivo >> marca >> aux >> color >> aux >> precio) {\n",
        "        cout << precio << \" \" << color << \" \" << marca << endl;\n",
        "    }\n",
        "}\n",
        "\n",
        "int main() {\n",
        "    ejemplo3();\n",
        "\n",
        "    //string frase;\n",
        "    //cout << \"Mnsg:\";\n",
        "    //getline(cin, frase);\n",
        "    //cout << frase;\n",
        "\n",
        "    return 0;\n",
        "}"
      ],
      "execution_count": null,
      "outputs": [
        {
          "output_type": "stream",
          "text": [
            "Overwriting archivos.cpp\n"
          ],
          "name": "stdout"
        }
      ]
    },
    {
      "cell_type": "markdown",
      "metadata": {
        "id": "f8ViNKXcsPjA"
      },
      "source": [
        ""
      ]
    },
    {
      "cell_type": "code",
      "metadata": {
        "colab": {
          "base_uri": "https://localhost:8080/"
        },
        "id": "8ZIjbGIdigIf",
        "outputId": "e8ee2f58-f6ef-44c1-f941-a4ebe4d7ded9"
      },
      "source": [
        "!g++ archivos.cpp && ./a.out"
      ],
      "execution_count": null,
      "outputs": [
        {
          "output_type": "stream",
          "text": [
            "1200 negro LG\n",
            "1500 azul Samsung\n",
            "800 rojo Nokia\n"
          ],
          "name": "stdout"
        }
      ]
    },
    {
      "cell_type": "markdown",
      "metadata": {
        "id": "cS2ehi4esNoY"
      },
      "source": [
        "#Lambdas\n",
        "\n",
        "\n",
        "```\n",
        "\n",
        "[]()->{}\n",
        "\n",
        "[] : Variables globales\n",
        "\n",
        "() : parámetros\n",
        "\n",
        "-> : tipo de retorno(opcional)\n",
        "\n",
        "{} : cuerpo de función\n",
        "\n",
        "```"
      ]
    },
    {
      "cell_type": "code",
      "metadata": {
        "colab": {
          "base_uri": "https://localhost:8080/"
        },
        "id": "JxCPWPsgikRW",
        "outputId": "71fb8ee0-582e-4f28-fa8f-a63fbff66e68"
      },
      "source": [
        "%%writefile lambdas.cpp\n",
        "#include <iostream>\n",
        "//sirve para desarrallorar un functor\n",
        "//es una variable que acepta funciones como parámetro\n",
        "#include <functional>\n",
        "\n",
        "using namespace std;\n",
        "\n",
        "//al pasar un parámetro de tipo lambda \n",
        "//criterio -> nombre de la variable\n",
        "\n",
        "// function<tipoDeDatoRetorno(tipoParametros)> nombreVariable\n",
        "\n",
        "void operacion(function<int(int, int)> criterio) {\n",
        "    int x = 10; \n",
        "    int y = 20;\n",
        "    cout << criterio(x,y) << \"\\n\";\n",
        "}\n",
        "\n",
        "int main() {\n",
        "    //la variable tendria que ser del mismo tipo de dato que devuelve, pero\n",
        "    //para evitar eso se pone auto\n",
        "    //toda la función se asigna como si fuera una variable, para que se pueda\n",
        "    //pasar como parámetro de otra función\n",
        "    auto mayor = [](int a, int b) {return a >= b ? a : b;};\n",
        "    auto menor = [](int a, int b) {return a <= b ? a : b;};\n",
        "\n",
        "    //Invocación a la operación\n",
        "    operacion(mayor);\n",
        "\n",
        "    return 0;\n",
        "}"
      ],
      "execution_count": null,
      "outputs": [
        {
          "output_type": "stream",
          "text": [
            "Overwriting lambdas.cpp\n"
          ],
          "name": "stdout"
        }
      ]
    },
    {
      "cell_type": "code",
      "metadata": {
        "colab": {
          "base_uri": "https://localhost:8080/"
        },
        "id": "eg0VpEe6t24A",
        "outputId": "7c421704-f976-4261-bfbc-dcc122254760"
      },
      "source": [
        "!g++ lambdas.cpp && ./a.out"
      ],
      "execution_count": null,
      "outputs": [
        {
          "output_type": "stream",
          "text": [
            "20\n"
          ],
          "name": "stdout"
        }
      ]
    },
    {
      "cell_type": "code",
      "metadata": {
        "colab": {
          "base_uri": "https://localhost:8080/"
        },
        "id": "Dbs9cOvpvn_U",
        "outputId": "0b5fc1a8-2359-4663-98b4-64bd89cdf781"
      },
      "source": [
        "%%writefile covid.cpp\n",
        "#include <string>\n",
        "#include <iostream>\n",
        "#include <sstream>\n",
        "#include <vector>\n",
        "#include <functional>\n",
        "using namespace std;\n",
        "\n",
        "struct Persona {\n",
        "    string nombre;\n",
        "    char sexo;\n",
        "    unsigned short edad;\n",
        "    Persona(string n, char s, unsigned short e) {\n",
        "        nombre = n;\n",
        "        sexo = s;\n",
        "        edad = e;\n",
        "    }\n",
        "};\n",
        "\n",
        "void salen(function<void(vector<Persona>)> criterio) {\n",
        "    vector<Persona> personas;\n",
        "    personas.push_back(Persona(\"Walter\", 'M', 38));\n",
        "    personas.push_back(Persona(\"Miguel\", 'M', 70));\n",
        "    personas.push_back(Persona(\"Ana\", 'F', 25));\n",
        "    personas.push_back(Persona(\"Lorena\", 'F', 65));\n",
        "    personas.push_back(Persona(\"Fidel\", 'M', 17));\n",
        "    personas.push_back(Persona(\"Pedro\", 'M', 30));\n",
        "    personas.push_back(Persona(\"Sofia\", 'F', 15));\n",
        "    \n",
        "    criterio(personas);\n",
        "}\n",
        "\n",
        "void masculino(vector<Persona> p) {\n",
        "    for (size_t i = 0; i<p.size(); i++)\n",
        "        if (p[i].sexo == 'M')\n",
        "            cout << p[i].nombre << \" \" << p[i].sexo << \" \" << p[i].edad << \"\\n\";\n",
        "}\n",
        "\n",
        "int main() {\n",
        "    auto femenino = [](vector<Persona> p) {\n",
        "        for (size_t i = 0; i<p.size(); i++)\n",
        "        if (p[i].sexo == 'F')\n",
        "            cout << p[i].nombre << \" \" << p[i].sexo << \" \" << p[i].edad << \"\\n\";\n",
        "    };\n",
        "    \n",
        "    auto edad = [](vector<Persona> p) {\n",
        "        for (size_t i = 0; i<p.size(); i++)\n",
        "        if (p[i].edad >= 18 && p[i].edad <= 50)\n",
        "            cout << p[i].nombre << \" \" << p[i].sexo << \" \" << p[i].edad << \"\\n\";\n",
        "    };\n",
        "\n",
        "    // auto edad = [](vector<Persona> p) {\n",
        "    //      return p[i].edad >= 18 && p[i].edad <= 50; \n",
        "    //     };\n",
        "    // auto genero = [](vector<Persona> p, bool caso) {\n",
        "    //      return p[i].sexo == (caso = 1 ? 'M' : 'F'); \n",
        "    //      };\n",
        "\n",
        "    cout << \"Masculino\\n\";\n",
        "    salen(masculino);\n",
        "    cout << \"\\n\\n\";\n",
        "    cout << \"Femenino\\n\";\n",
        "    salen(femenino);\n",
        "    cout << \"\\n\\n\";\n",
        "    cout << \"Edad\\n\";\n",
        "    salen(edad);\n",
        "\n",
        "    return 0;\n",
        "}"
      ],
      "execution_count": null,
      "outputs": [
        {
          "output_type": "stream",
          "text": [
            "Overwriting covid.cpp\n"
          ],
          "name": "stdout"
        }
      ]
    },
    {
      "cell_type": "code",
      "metadata": {
        "colab": {
          "base_uri": "https://localhost:8080/"
        },
        "id": "J1CMLBX-yzQ8",
        "outputId": "7e46c76f-4ff1-4ccd-a383-5d24a2fc30e4"
      },
      "source": [
        "!g++ covid.cpp && ./a.out"
      ],
      "execution_count": null,
      "outputs": [
        {
          "output_type": "stream",
          "text": [
            "Masculino\n",
            "Walter M 38\n",
            "Miguel M 70\n",
            "Fidel M 17\n",
            "Pedro M 30\n",
            "\n",
            "\n",
            "Femenino\n",
            "Ana F 25\n",
            "Lorena F 65\n",
            "Sofia F 15\n",
            "\n",
            "\n",
            "Edad\n",
            "Walter M 38\n",
            "Ana F 25\n",
            "Pedro M 30\n"
          ],
          "name": "stdout"
        }
      ]
    },
    {
      "cell_type": "markdown",
      "metadata": {
        "id": "wBS2q9hf1NY5"
      },
      "source": [
        "#Tarea académica\n",
        "- Implementar archivos y lambdas en la funcionalidad del proyecto de programación 2"
      ]
    },
    {
      "cell_type": "code",
      "metadata": {
        "id": "EvqJUzp8zvE0"
      },
      "source": [
        ""
      ],
      "execution_count": null,
      "outputs": []
    }
  ]
}