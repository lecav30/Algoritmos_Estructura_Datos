{
  "nbformat": 4,
  "nbformat_minor": 0,
  "metadata": {
    "colab": {
      "name": "Semana3S1.ipynb",
      "provenance": [],
      "collapsed_sections": [],
      "authorship_tag": "ABX9TyNCVkSiilzHfpxgMdPCO1xA",
      "include_colab_link": true
    },
    "kernelspec": {
      "name": "python3",
      "display_name": "Python 3"
    },
    "language_info": {
      "name": "python"
    }
  },
  "cells": [
    {
      "cell_type": "markdown",
      "metadata": {
        "id": "view-in-github",
        "colab_type": "text"
      },
      "source": [
        "<a href=\"https://colab.research.google.com/github/lecav30/Algoritmos_Estructura_Datos/blob/main/Sem%203/Semana3S1.ipynb\" target=\"_parent\"><img src=\"https://colab.research.google.com/assets/colab-badge.svg\" alt=\"Open In Colab\"/></a>"
      ]
    },
    {
      "cell_type": "markdown",
      "metadata": {
        "id": "2_CN212dQDLf"
      },
      "source": [
        "#Temario\n",
        "* Recursividad"
      ]
    },
    {
      "cell_type": "markdown",
      "metadata": {
        "id": "hS_LB5QaiDcZ"
      },
      "source": [
        "#RECURSIVIDAD"
      ]
    },
    {
      "cell_type": "code",
      "metadata": {
        "colab": {
          "base_uri": "https://localhost:8080/"
        },
        "id": "RF9rM9kUPvZj",
        "outputId": "013d6f3e-2841-4dc7-add3-e25f9129b247"
      },
      "source": [
        "%%writefile r1.cpp\n",
        "#include <iostream>\n",
        "using namespace std;\n",
        "\n",
        "void print(int x) {\n",
        "    if (x > 0) {\n",
        "        cout << x << \" \"; //IDA\n",
        "        print(x - 1);\n",
        "    }\n",
        "}\n",
        "\n",
        "int main() {\n",
        "    int x = 10;\n",
        "    print(x);\n",
        "    return 0;\n",
        "}"
      ],
      "execution_count": null,
      "outputs": [
        {
          "output_type": "stream",
          "name": "stdout",
          "text": [
            "Overwriting r1.cpp\n"
          ]
        }
      ]
    },
    {
      "cell_type": "code",
      "metadata": {
        "colab": {
          "base_uri": "https://localhost:8080/"
        },
        "id": "3wbvWNjAR9Tr",
        "outputId": "dfda9661-a752-4243-99e4-e5f4c23cdd89"
      },
      "source": [
        "!g++ -w r1.cpp && ./a.out"
      ],
      "execution_count": null,
      "outputs": [
        {
          "output_type": "stream",
          "name": "stdout",
          "text": [
            "10 9 8 7 6 5 4 3 2 1 "
          ]
        }
      ]
    },
    {
      "cell_type": "code",
      "metadata": {
        "colab": {
          "base_uri": "https://localhost:8080/"
        },
        "id": "kIYkG0WoSChm",
        "outputId": "ee0b5a1f-8524-45d1-d032-08448bd674ae"
      },
      "source": [
        "%%writefile r2.cpp\n",
        "#include <iostream>\n",
        "using namespace std;\n",
        "\n",
        "void print(int x) {\n",
        "    if (x > 0) {\n",
        "        print(x - 1);\n",
        "        cout << x << \" \"; //VUELTA\n",
        "    }\n",
        "}\n",
        "\n",
        "int main() {\n",
        "    int x = 10;\n",
        "    print(x);\n",
        "    return 0;\n",
        "}"
      ],
      "execution_count": null,
      "outputs": [
        {
          "output_type": "stream",
          "name": "stdout",
          "text": [
            "Writing r2.cpp\n"
          ]
        }
      ]
    },
    {
      "cell_type": "code",
      "metadata": {
        "colab": {
          "base_uri": "https://localhost:8080/"
        },
        "id": "A8ilcrRQSmxW",
        "outputId": "4fcd10bb-6856-4d05-bc34-327caa55fd38"
      },
      "source": [
        "!g++ -w r2.cpp && ./a.out"
      ],
      "execution_count": null,
      "outputs": [
        {
          "output_type": "stream",
          "name": "stdout",
          "text": [
            "1 2 3 4 5 6 7 8 9 10 "
          ]
        }
      ]
    },
    {
      "cell_type": "code",
      "metadata": {
        "colab": {
          "base_uri": "https://localhost:8080/"
        },
        "id": "MPR5cuJBUndt",
        "outputId": "dc2952f5-61b2-4fbb-e76c-9256de33b115"
      },
      "source": [
        "%%writefile sumatoria.cpp\n",
        "#include <iostream>\n",
        "using namespace std;\n",
        "\n",
        "int sumatoria(int x) {\n",
        "    if (x == 1)\n",
        "        return 1;\n",
        "    else \n",
        "        return x + sumatoria(x - 1);\n",
        "}\n",
        "\n",
        "int main() {\n",
        "    int x = 3;\n",
        "    cout << \"La sumatoria es: \" << sumatoria(x);\n",
        "    return 0;\n",
        "}"
      ],
      "execution_count": null,
      "outputs": [
        {
          "output_type": "stream",
          "name": "stdout",
          "text": [
            "Overwriting sumatoria.cpp\n"
          ]
        }
      ]
    },
    {
      "cell_type": "code",
      "metadata": {
        "colab": {
          "base_uri": "https://localhost:8080/"
        },
        "id": "i5j7Xek1So9V",
        "outputId": "5803ffdf-2625-43bb-d4f9-86a0719659fa"
      },
      "source": [
        "!g++ -w sumatoria.cpp && ./a.out"
      ],
      "execution_count": null,
      "outputs": [
        {
          "output_type": "stream",
          "name": "stdout",
          "text": [
            "La sumatoria es: 6"
          ]
        }
      ]
    },
    {
      "cell_type": "code",
      "metadata": {
        "colab": {
          "base_uri": "https://localhost:8080/"
        },
        "id": "EHIUt4PhU8dT",
        "outputId": "9e046f4c-b6f3-4033-ddad-38d4b176827c"
      },
      "source": [
        "%%writefile factorial.cpp\n",
        "#include <iostream>\n",
        "using namespace std;\n",
        "\n",
        "int factorial(int x) {\n",
        "    if (x == 1) return 1;\n",
        "    else return x * factorial(x - 1);\n",
        "}\n",
        "\n",
        "int main() {\n",
        "    int x = 6;\n",
        "    cout << \"El factorial es: \" << factorial(x);\n",
        "    return 0;\n",
        "}"
      ],
      "execution_count": null,
      "outputs": [
        {
          "output_type": "stream",
          "name": "stdout",
          "text": [
            "Overwriting factorial.cpp\n"
          ]
        }
      ]
    },
    {
      "cell_type": "code",
      "metadata": {
        "colab": {
          "base_uri": "https://localhost:8080/"
        },
        "id": "CWGFuwLeXYCh",
        "outputId": "ec835ffd-c89c-4eb6-c566-e9d5147bc1c5"
      },
      "source": [
        "!g++ -w factorial.cpp && ./a.out"
      ],
      "execution_count": null,
      "outputs": [
        {
          "output_type": "stream",
          "name": "stdout",
          "text": [
            "El factorial es: 720"
          ]
        }
      ]
    },
    {
      "cell_type": "code",
      "metadata": {
        "colab": {
          "base_uri": "https://localhost:8080/"
        },
        "id": "-b51AtwOXgZ5",
        "outputId": "c8fa7f06-3503-4d61-c4b7-17fab2b518ed"
      },
      "source": [
        "%%writefile fibonacci.cpp\n",
        "#include <iostream>\n",
        "using namespace std;\n",
        "\n",
        "typedef long long ll;\n",
        "\n",
        "ll fibonacci(int x) {\n",
        "    if (x <= 2) return 1;\n",
        "    else return fibonacci(x-1) + fibonacci(x-2);\n",
        "}\n",
        "\n",
        "void serie(ll n) {\n",
        "    //caso de una funcion void\n",
        "    if (n == 0) return;\n",
        "    serie(n - 1);\n",
        "    cout << fibonacci(n) << \" \";\n",
        "}\n",
        "\n",
        "int main() {\n",
        "    cout << \"Serie: \";\n",
        "    serie(30);\n",
        "    return 0;\n",
        "}"
      ],
      "execution_count": null,
      "outputs": [
        {
          "output_type": "stream",
          "name": "stdout",
          "text": [
            "Overwriting fibonacci.cpp\n"
          ]
        }
      ]
    },
    {
      "cell_type": "code",
      "metadata": {
        "colab": {
          "base_uri": "https://localhost:8080/"
        },
        "id": "uehOPN5_YCp1",
        "outputId": "e4b36b50-e1ea-4efc-e3e5-23ecb7e5811b"
      },
      "source": [
        "!g++ -w fibonacci.cpp && ./a.out"
      ],
      "execution_count": null,
      "outputs": [
        {
          "output_type": "stream",
          "name": "stdout",
          "text": [
            "Serie: 1 1 2 3 5 8 13 21 34 55 89 144 233 377 610 987 1597 2584 4181 6765 10946 17711 28657 46368 75025 121393 196418 317811 514229 832040 "
          ]
        }
      ]
    },
    {
      "cell_type": "markdown",
      "metadata": {
        "id": "YOub8PFTbPl0"
      },
      "source": [
        "Ejemplo 6: Gráfico\n",
        "```\n",
        "*\n",
        "* *\n",
        "* * * \n",
        "* * * *\n",
        "* * * * * \n",
        "```\n"
      ]
    },
    {
      "cell_type": "code",
      "metadata": {
        "colab": {
          "base_uri": "https://localhost:8080/"
        },
        "id": "o6gnZ1aCYyoO",
        "outputId": "03f9db99-67b1-4bba-e9c2-24f223d2e1b7"
      },
      "source": [
        "%%writefile grafico.cpp\n",
        "#include <iostream>\n",
        "using namespace std;\n",
        "\n",
        "void columnas(int n){\n",
        "    if(n==0)return;\n",
        "    columnas(n-1);\n",
        "    cout<<\"*\";\n",
        "}\n",
        "\n",
        "void filas(int n){\n",
        "    if(n==0)return;\n",
        "    filas(n-1);\n",
        "    columnas(n);\n",
        "    cout<<endl;\n",
        "}\n",
        "\n",
        "int main(){\n",
        "    filas(5);\n",
        "    return 0;\n",
        "}"
      ],
      "execution_count": null,
      "outputs": [
        {
          "output_type": "stream",
          "name": "stdout",
          "text": [
            "Overwriting grafico.cpp\n"
          ]
        }
      ]
    },
    {
      "cell_type": "code",
      "metadata": {
        "colab": {
          "base_uri": "https://localhost:8080/"
        },
        "id": "IAPhoH-fdFNi",
        "outputId": "1f2879be-ead7-4def-cc00-1576586dff0b"
      },
      "source": [
        "!g++ -w grafico.cpp && ./a.out"
      ],
      "execution_count": null,
      "outputs": [
        {
          "output_type": "stream",
          "name": "stdout",
          "text": [
            "*\n",
            "**\n",
            "***\n",
            "****\n",
            "*****\n"
          ]
        }
      ]
    },
    {
      "cell_type": "code",
      "metadata": {
        "colab": {
          "base_uri": "https://localhost:8080/"
        },
        "id": "_4hnnraXeQT3",
        "outputId": "2681360b-2964-4a39-e12f-096cf60558a5"
      },
      "source": [
        "%%writefile casoPractico.cpp\n",
        "#include <iostream>\n",
        "using namespace std;\n",
        "\n",
        "void corte(int a, int b, int n) {\n",
        "    cout << \"Corte\"<< \": \" << a << \" x \" << b << endl;\n",
        "    if (n == 0) return;\n",
        "    else {\n",
        "        if (a >= b ) a = a/2;\n",
        "        else b = b/2;\n",
        "        corte(a, b, n -1);\n",
        "    }\n",
        "}\n",
        "\n",
        "int main(){\n",
        "    corte(300, 200, 3);\n",
        "    return 0;\n",
        "}"
      ],
      "execution_count": null,
      "outputs": [
        {
          "output_type": "stream",
          "name": "stdout",
          "text": [
            "Overwriting casoPractico.cpp\n"
          ]
        }
      ]
    },
    {
      "cell_type": "code",
      "metadata": {
        "colab": {
          "base_uri": "https://localhost:8080/"
        },
        "id": "Sa25nGjJgV0a",
        "outputId": "2802359c-59d6-4c4a-cba5-ee73ad7716d1"
      },
      "source": [
        "!g++ -w casoPractico.cpp && ./a.out"
      ],
      "execution_count": null,
      "outputs": [
        {
          "output_type": "stream",
          "name": "stdout",
          "text": [
            "Corte: 300 x 200\n",
            "Corte: 150 x 200\n",
            "Corte: 150 x 100\n",
            "Corte: 75 x 100\n"
          ]
        }
      ]
    }
  ]
}