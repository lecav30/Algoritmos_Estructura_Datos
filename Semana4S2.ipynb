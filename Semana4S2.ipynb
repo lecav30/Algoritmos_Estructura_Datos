{
  "nbformat": 4,
  "nbformat_minor": 0,
  "metadata": {
    "colab": {
      "name": "Semana4S2.ipynb",
      "provenance": [],
      "collapsed_sections": [],
      "authorship_tag": "ABX9TyOPm/Cz7srXEyiFQwyBjdH7",
      "include_colab_link": true
    },
    "kernelspec": {
      "name": "python3",
      "display_name": "Python 3"
    },
    "language_info": {
      "name": "python"
    }
  },
  "cells": [
    {
      "cell_type": "markdown",
      "metadata": {
        "id": "view-in-github",
        "colab_type": "text"
      },
      "source": [
        "<a href=\"https://colab.research.google.com/github/lecav30/Algoritmos_Estructura_Datos/blob/main/Semana4S2.ipynb\" target=\"_parent\"><img src=\"https://colab.research.google.com/assets/colab-badge.svg\" alt=\"Open In Colab\"/></a>"
      ]
    },
    {
      "cell_type": "code",
      "metadata": {
        "colab": {
          "base_uri": "https://localhost:8080/"
        },
        "id": "NxibFFYkwPcS",
        "outputId": "041fa755-1689-4227-d22b-7c1c5f75cd1e"
      },
      "source": [
        "%%writefile repaso.cpp\n",
        "#include <iostream>\n",
        "#include <functional>\n",
        "using namespace std;\n",
        "\n",
        "/*\n",
        "// function\n",
        "void mostrar(int x){\n",
        "    cout << x << \"\\n\";\n",
        "}\n",
        "\n",
        "// lambdas\n",
        "// una funcion anonima que se asigna a una variable\n",
        "auto var = [] (int x) ->void { \n",
        "    cout << x << \"\\n\";\n",
        "}\n",
        "\n",
        "[] (int x) ->void {\n",
        "    cout << x << \"\\n\";\n",
        "}\n",
        "\n",
        "// functor\n",
        "// function<prototipo>\n",
        "function<void(int)> varFunctor;\n",
        "varFunctor = mostrar;\n",
        "varFunctor = var;\n",
        "*/\n",
        "\n",
        "\n",
        "class Clase{\n",
        "    // error\n",
        "    //auto x = [] (int x) {cout << x;};\n",
        "    // Declarando una funcion como atributo de clase\n",
        "    function<void(int)> varFuncion;\n",
        "public:\n",
        "    Clase() {}\n",
        "    void procesar(int t, function<void(int)> f) {\n",
        "        //f(t);\n",
        "        varFuncion = f;\n",
        "        varFuncion(t);\n",
        "    }\n",
        "};\n",
        "\n",
        "// functor = (funcion externa, lambda, puntero a funcion)\n",
        "\n",
        "int main() {\n",
        "    // Ejemplo 1\n",
        "    Clase c;\n",
        "\n",
        "    auto a = [] (int x) {cout << x << \"\\n\";}; \n",
        "\n",
        "    c.procesar(10, a);\n",
        "\n",
        "    // Ejemplo 2\n",
        "    Clase *c1 = new Clase();\n",
        "\n",
        "    auto b = [] (int x) {\n",
        "        long f = 1;\n",
        "        for (size_t i = 1; i <= x; ++i)\n",
        "            f *= i;\n",
        "        cout << f << \"\\n\";\n",
        "    };\n",
        "\n",
        "    c1->procesar(5, b);\n",
        "\n",
        "    return 0;\n",
        "}"
      ],
      "execution_count": null,
      "outputs": [
        {
          "output_type": "stream",
          "name": "stdout",
          "text": [
            "Overwriting repaso.cpp\n"
          ]
        }
      ]
    },
    {
      "cell_type": "code",
      "metadata": {
        "colab": {
          "base_uri": "https://localhost:8080/"
        },
        "id": "DRCSdi_Nxypu",
        "outputId": "612913ff-6965-4218-b366-cb29e7488053"
      },
      "source": [
        "!g++ -w repaso.cpp && ./a.out"
      ],
      "execution_count": null,
      "outputs": [
        {
          "output_type": "stream",
          "name": "stdout",
          "text": [
            "10\n",
            "120\n"
          ]
        }
      ]
    },
    {
      "cell_type": "code",
      "metadata": {
        "colab": {
          "base_uri": "https://localhost:8080/"
        },
        "id": "HgDtt0Afx3VX",
        "outputId": "dc2418a3-3eba-472a-99f6-197d37d34798"
      },
      "source": [
        "%%writefile repaso1.cpp\n",
        "#include <iostream>\n",
        "#include <functional>\n",
        "using namespace std;\n",
        "\n",
        "class Clase{\n",
        "    function<void(int)> varFuncion;\n",
        "    int t;\n",
        "public:\n",
        "    // sobrecarga de funciones\n",
        "    // funcionalidad predeterminada\n",
        "    Clase(int t, function<void(int)> f = [] (int x) {cout << x << \"\\n\";}) {\n",
        "        varFuncion = f;\n",
        "        this->t = t;\n",
        "    }\n",
        "    void procesar(){\n",
        "        varFuncion(t);\n",
        "    }\n",
        "};\n",
        "\n",
        "int main() {\n",
        "    // Ejemplo 1\n",
        "    Clase c(10);\n",
        "    c.procesar();\n",
        "\n",
        "    // Ejemplo 2\n",
        "    auto b = [] (int x) {\n",
        "        long f = 1;\n",
        "        for (size_t i = 1; i <= x; ++i)\n",
        "            f *= i;\n",
        "        cout << f << \"\\n\";\n",
        "    };\n",
        "\n",
        "    Clase *c1 = new Clase(5, b);\n",
        "\n",
        "    c1->procesar();\n",
        "    \n",
        "    delete c1;\n",
        "    return 0;\n",
        "}"
      ],
      "execution_count": null,
      "outputs": [
        {
          "output_type": "stream",
          "name": "stdout",
          "text": [
            "Overwriting repaso1.cpp\n"
          ]
        }
      ]
    },
    {
      "cell_type": "code",
      "metadata": {
        "colab": {
          "base_uri": "https://localhost:8080/"
        },
        "id": "ucSYWUkw--tt",
        "outputId": "c5871e21-0660-4933-d919-0c995e466828"
      },
      "source": [
        "!g++ -w repaso1.cpp && ./a.out"
      ],
      "execution_count": null,
      "outputs": [
        {
          "output_type": "stream",
          "name": "stdout",
          "text": [
            "10\n",
            "120\n"
          ]
        }
      ]
    },
    {
      "cell_type": "code",
      "metadata": {
        "id": "v8XwR5cd_AnT"
      },
      "source": [
        ""
      ],
      "execution_count": null,
      "outputs": []
    }
  ]
}